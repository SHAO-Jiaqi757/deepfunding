{
 "cells": [
  {
   "cell_type": "code",
   "execution_count": 4,
   "metadata": {},
   "outputs": [
    {
     "name": "stdout",
     "output_type": "stream",
     "text": [
      "   id                                          project_a  \\\n",
      "0   2  https://github.com/prettier-solidity/prettier-...   \n",
      "\n",
      "                                    project_b  weight_a  weight_b  \\\n",
      "0  https://github.com/nomicfoundation/hardhat  0.101669  0.898331   \n",
      "\n",
      "   agent_weight_a  agent_weight_b agent_trace_url  \n",
      "0        0.317076        0.682924             NaN  \n"
     ]
    }
   ],
   "source": [
    "import pandas as pd\n",
    "\n",
    "# Read the CSV file into a DataFrame\n",
    "df = pd.read_csv(\"mini-contest/dataset-agent.csv\")\n",
    "\n",
    "# Display the first few rows of the DataFrame\n",
    "print(df.head(1))"
   ]
  },
  {
   "cell_type": "code",
   "execution_count": 5,
   "metadata": {},
   "outputs": [
    {
     "name": "stdout",
     "output_type": "stream",
     "text": [
      "https://github.com/walletconnect/walletconnect-monorepo VS https://github.com/chzyer/readline\n",
      "Project Analyzer Result: weight_a=0.85 weight_b=0.15 confidence=0.9 reasoning='Repo A has significantly higher activity metrics, including a large active developer count (30), a high number of commits (1954), and a substantial contributor count (2869). These metrics suggest strong ongoing development and a healthy community. In contrast, Repo B shows no recent activity or contributions, indicating a lack of community engagement and potential abandonment. Although Repo B has a decent star count (2105), it lacks the recent contributions and developer engagement that indicate sustainability. Therefore, I assign a higher weight to Repo A, reflecting its stronger metrics and potential for future growth and sustainability.' metrics_used=['activeDeveloperCount6Months', 'closedIssueCount6Months', 'commitCount6Months', 'contributorCount', 'forkCount', 'starCount', 'total_funding_received_usd']\n",
      "Funding Strategist Result: weight_a=0.85 weight_b=0.15 confidence=0.9 reasoning=\"Repo A demonstrates a high level of activity, with a significant number of active developers (30), a large number of commits (1954), and an impressive contributor count (2869). The funding received ($136,708) indicates strong backing and viability. In contrast, Repo B has no active development in the past six months, no contributors, and no new funding, suggesting it may not sustain future growth or relevance. Repo B's metrics reflect a lack of engagement and potential burnout risk for any existing maintainers, whereas Repo A shows strong engagement and growth potential. Given these factors, Repo A deserves a significantly higher weight than Repo B for funding allocation.\" metrics_used=['activeDeveloperCount6Months', 'closedIssueCount6Months', 'commitCount6Months', 'contributorCount', 'forkCount', 'starCount', 'total_funding_received_usd', 'newContributorCount6Months', 'mergedPullRequestCount6Months']\n",
      "Community Advocate Result: weight_a=0.8 weight_b=0.2 confidence=0.9 reasoning='Repo A demonstrates strong community engagement and activity, with significant metrics in developer activity (30 active developers), a high commit count (1954), and a large contributor base (2869). This indicates a vibrant ecosystem capable of attracting new contributors (192 in the last 6 months) and sustaining ongoing development. The high number of forks (4710) and stars (9940) suggests it is widely recognized and utilized, which adds to its visibility and potential for future growth. In contrast, Repo B shows a lack of activity with no active developers, commits, or contributors in the past six months, indicating potential stagnation. While it has historical utility (2105 stars), its current inactivity poses sustainability concerns. The absence of recent funding further highlights its vulnerability. Given these factors, Repo A is prioritized for funding as it has a clear trajectory towards growth, while Repo B, despite its longstanding presence, is unlikely to leverage any new funding effectively at this stage.' metrics_used=['activeDeveloperCount6Months', 'closedIssueCount6Months', 'commitCount6Months', 'contributorCount', 'forkCount', 'starCount', 'total_funding_received_usd', 'mergedPullRequestCount6Months', 'newContributorCount6Months', 'openedIssueCount6Months', 'openedPullRequestCount6Months']\n",
      "Agent: 0.8351020557646827 0.1648979442353174\n",
      "Human: 0.1 0.9\n",
      "Check details here: https://smith.langchain.com/public/d2086c8b-f58f-404a-896b-5de808dc4647/r\n",
      "https://github.com/walletconnect/walletconnect-monorepo VS https://github.com/pnpm/cmd-shim\n",
      "Project Analyzer Result: weight_a=0.6 weight_b=0.4 confidence=0.9 reasoning='Repo A shows a strong engagement with 30 active developers, a high commit count indicating ongoing development, and significant contributor activity with 192 new contributors in the last 6 months. However, it has a high number of opened issues (250) compared to closed issues (212), which might indicate some challenges in managing issues. Repo B has a lower active developer count (5) but a higher commit count (3697) and a significant star count (33951), which suggests it has a solid user base and utility. However, the funding is limited to just one funder giving a large amount, which might pose risks in terms of sustainability. Both repositories have potential, but Repo A has more active involvement and may have better long-term sustainability despite its current issues, while Repo B has strong metrics but is reliant on a single source of funding. Therefore, I propose allocating weights of 0.6 to Repo A and 0.4 to Repo B, reflecting a balance between current engagement and future potential.' metrics_used=['activeDeveloperCount6Months', 'closedIssueCount6Months', 'commitCount6Months', 'contributorCount', 'contributorCount6Months', 'forkCount', 'mergedPullRequestCount6Months', 'newContributorCount6Months', 'openedIssueCount6Months', 'openedPullRequestCount6Months', 'starCount', 'total_funding_received_usd']\n",
      "Funding Strategist Result: weight_a=0.6 weight_b=0.4 confidence=0.85 reasoning=\"Repo A has a larger contributor base and active developer count, indicating a vibrant community. It also has a high commit count and a substantial number of merged pull requests, showcasing ongoing development and responsiveness. However, it has a high number of opened issues and closed issues, which could indicate some backlog in addressing problems. Repo B, while having fewer active developers, has a very high star count, indicating a strong popularity and usage of the tool, and a higher funding received in the last 6 months which may contribute to sustainability. The balance between the two projects lies in Repo A's active development and community, and Repo B's established reputation and recent funding success.\" metrics_used=['activeDeveloperCount6Months', 'closedIssueCount6Months', 'commitCount6Months', 'contributorCount', 'contributorCount6Months', 'forkCount', 'mergedPullRequestCount6Months', 'openedIssueCount6Months', 'openedPullRequestCount6Months', 'starCount', 'total_funding_received_usd', 'total_funders_count']\n",
      "Community Advocate Result: weight_a=0.65 weight_b=0.35 confidence=0.9 reasoning=\"Repo A (WalletConnect) shows a significant community engagement with a high number of active developers (30), contributors (2869), and merged pull requests (687). Despite a high number of closed issues (212), the project has substantial activity (1954 commits), indicating ongoing development. The funding is relatively low in the last 6 months, but the total funding received is substantial, indicating potential for sustainability despite current challenges. Repo B (cmd-shim) has a higher star count (33951) and more commits (3697), but a lower active developer count (5) and only one total funder, which raises concerns about long-term sustainability. The relatively high number of new contributors (245) in Repo B is promising, but the project has fewer active developers which might indicate a risk of burnout or declining interest. Thus, Repo A's active developer base and broader community engagement suggest it is more likely to thrive in the future despite current funding challenges. I propose a weight of 0.65 for Repo A and 0.35 for Repo B, balancing the strengths of community engagement and sustainability against the popularity and higher commit activity.\" metrics_used=['activeDeveloperCount6Months', 'commitCount6Months', 'contributorCount', 'forkCount', 'starCount', 'total_funding_received_usd', 'newContributorCount6Months', 'mergedPullRequestCount6Months', 'openedIssueCount6Months', 'closedIssueCount6Months']\n",
      "Funding Strategist Result: weight_a=0.55 weight_b=0.45 confidence=0.9 reasoning=\"Repo A shows a significantly higher active developer count (30) compared to Repo B (5), indicating a stronger community involvement. However, Repo B has a higher star count (33951) compared to Repo A (9940), which may indicate greater community interest or utility. Repo A has a higher commit count (1954) versus Repo B (3697) in the last 6 months, which suggests ongoing development and maintenance. Repo A also has a higher number of new contributors (192) than Repo B (245), suggesting potential for growth despite its lower star count. The funding data shows that Repo B has received more funding historically but lacks recent funding, while Repo A has not received any funding in the last 6 months despite its utilization potential. The balance of metrics suggests that while Repo B has strong historical metrics, Repo A's active community and ongoing development may indicate better future potential. Therefore, I assign a weight of 0.55 to Repo A and 0.45 to Repo B to reflect this assessment.\" metrics_used=['activeDeveloperCount6Months', 'closedIssueCount6Months', 'commitCount6Months', 'contributorCount', 'contributorCount6Months', 'forkCount', 'mergedPullRequestCount6Months', 'newContributorCount6Months', 'openedIssueCount6Months', 'openedPullRequestCount6Months', 'starCount', 'total_funders_count', 'total_funding_received_usd', 'total_funding_received_usd_6_months', 'searchResults']\n",
      "Project Analyzer Result: weight_a=0.55 weight_b=0.45 confidence=0.85 reasoning=\"Repo A shows a high level of activity with 30 active developers, a significant number of commits (1954), and a relatively high star count (9940). However, it has a high number of open issues (250) and closed issues (212), suggesting potential challenges in managing contributions and resolving problems. Repo A has received no funding in the last 6 months, which raises concerns about sustainability. Conversely, Repo B has fewer active developers (5) but boasts a higher star count (33951) and has received funding recently (14334.99 in the last 6 months). It also has a higher commitment count (3697) and a considerable number of new contributors (245), indicating a growing interest. However, Repo B has more open issues (319) compared to closed issues (193), which could signal a potential backlog or maintenance challenge. Overall, while both projects show promise, Repo A's activity levels are more indicative of a current thriving project, whereas Repo B's established reputation and recent funding suggest long-term viability. I will assign a weight of 0.55 to Repo A and 0.45 to Repo B to reflect their relative merits and potential.\" metrics_used=['activeDeveloperCount6Months', 'closedIssueCount6Months', 'commitCount6Months', 'contributorCount', 'contributorCount6Months', 'forkCount', 'mergedPullRequestCount6Months', 'openedIssueCount6Months', 'starCount', 'total_funding_received_usd']\n",
      "Funding Strategist Result: weight_a=0.7 weight_b=0.3 confidence=0.9 reasoning=\"Repo A shows significantly higher activity levels and a larger contributor base, indicating strong community involvement and potential for growth. Despite a higher closed issue count, the number of new contributors and merged pull requests suggests that the project continues to evolve actively. Furthermore, the total funding received reflects the project's critical utility in the open-source ecosystem. In contrast, Repo B, while it has a higher star count, demonstrates lower active developer involvement and fewer contributors, which may indicate a reliance on fewer contributors and potential sustainability risks. The funding landscape for Repo B is also less favorable, with only a single funder. Therefore, Repo A should receive a higher weight due to its more substantial engagement and growth potential.\" metrics_used=['activeDeveloperCount6Months', 'closedIssueCount6Months', 'commitCount6Months', 'contributorCount', 'forkCount', 'starCount', 'total_funders_count', 'total_funding_received_usd']\n",
      "Community Advocate Result: weight_a=0.6 weight_b=0.4 confidence=0.9 reasoning='Repo A shows significant community engagement with a high active developer count (30) and a large contributor base (2869) despite recent closed issues being high (212). The commit activity (1954) indicates ongoing development, and the new contributors (192) suggest growth potential. However, the funding in the last 6 months is zero, which raises sustainability concerns. Repo B, while having a larger star count (33951) and high commit activity (3697), has only 5 active developers and fewer contributors (2794), signaling potential challenges in community engagement and growth. The funding situation is slightly better but still limited (147230.06 overall). The balance of engagement and potential for growth in Repo A, despite its funding issues, suggests it may have greater public good impact if supported properly. Hence, I assign a weight of 0.6 for Repo A and 0.4 for Repo B to reflect these considerations.' metrics_used=['activeDeveloperCount6Months', 'closedIssueCount6Months', 'commitCount6Months', 'contributorCount', 'forkCount', 'starCount', 'total_funding_received_usd', 'newContributorCount6Months', 'openedIssueCount6Months', 'mergedPullRequestCount6Months']\n"
     ]
    },
    {
     "ename": "GraphRecursionError",
     "evalue": "Recursion limit of 25 reached without hitting a stop condition. You can increase the limit by setting the `recursion_limit` config key.\nFor troubleshooting, visit: https://python.langchain.com/docs/troubleshooting/errors/GRAPH_RECURSION_LIMIT",
     "output_type": "error",
     "traceback": [
      "\u001b[0;31m---------------------------------------------------------------------------\u001b[0m",
      "\u001b[0;31mGraphRecursionError\u001b[0m                       Traceback (most recent call last)",
      "Cell \u001b[0;32mIn[5], line 27\u001b[0m\n\u001b[1;32m     24\u001b[0m repo_a \u001b[38;5;241m=\u001b[39m { \u001b[38;5;124m\"\u001b[39m\u001b[38;5;124murl\u001b[39m\u001b[38;5;124m\"\u001b[39m: repo_a_url, \u001b[38;5;241m*\u001b[39m\u001b[38;5;241m*\u001b[39mfetch_repo_metrics(repo_a_url) }\n\u001b[1;32m     25\u001b[0m repo_b \u001b[38;5;241m=\u001b[39m { \u001b[38;5;124m\"\u001b[39m\u001b[38;5;124murl\u001b[39m\u001b[38;5;124m\"\u001b[39m: repo_b_url, \u001b[38;5;241m*\u001b[39m\u001b[38;5;241m*\u001b[39mfetch_repo_metrics(repo_b_url) }\n\u001b[0;32m---> 27\u001b[0m agent_result \u001b[38;5;241m=\u001b[39m \u001b[43mrun_comparison\u001b[49m\u001b[43m(\u001b[49m\u001b[43mrepo_a\u001b[49m\u001b[43m,\u001b[49m\u001b[43m \u001b[49m\u001b[43mrepo_b\u001b[49m\u001b[43m)\u001b[49m\n\u001b[1;32m     29\u001b[0m df\u001b[38;5;241m.\u001b[39mat[i, \u001b[38;5;124m'\u001b[39m\u001b[38;5;124magent_weight_a\u001b[39m\u001b[38;5;124m'\u001b[39m] \u001b[38;5;241m=\u001b[39m agent_result[\u001b[38;5;124m'\u001b[39m\u001b[38;5;124mweights\u001b[39m\u001b[38;5;124m'\u001b[39m][repo_a_url]\n\u001b[1;32m     30\u001b[0m df\u001b[38;5;241m.\u001b[39mat[i, \u001b[38;5;124m'\u001b[39m\u001b[38;5;124magent_weight_b\u001b[39m\u001b[38;5;124m'\u001b[39m] \u001b[38;5;241m=\u001b[39m agent_result[\u001b[38;5;124m'\u001b[39m\u001b[38;5;124mweights\u001b[39m\u001b[38;5;124m'\u001b[39m][repo_b_url]\n",
      "File \u001b[0;32m~/deepfunding/deepfunding-agent/deepfunding.py:506\u001b[0m, in \u001b[0;36mrun_comparison\u001b[0;34m(repo_a, repo_b)\u001b[0m\n\u001b[1;32m    498\u001b[0m run_id \u001b[38;5;241m=\u001b[39m uuid\u001b[38;5;241m.\u001b[39muuid4()\n\u001b[1;32m    499\u001b[0m initial_state \u001b[38;5;241m=\u001b[39m {\n\u001b[1;32m    500\u001b[0m     \u001b[38;5;124m\"\u001b[39m\u001b[38;5;124mmessages\u001b[39m\u001b[38;5;124m\"\u001b[39m: [],\n\u001b[1;32m    501\u001b[0m     \u001b[38;5;124m\"\u001b[39m\u001b[38;5;124mrepo_a\u001b[39m\u001b[38;5;124m\"\u001b[39m: repo_a,\n\u001b[0;32m   (...)\u001b[0m\n\u001b[1;32m    504\u001b[0m     \u001b[38;5;124m\"\u001b[39m\u001b[38;5;124mphase\u001b[39m\u001b[38;5;124m\"\u001b[39m: \u001b[38;5;124m\"\u001b[39m\u001b[38;5;124mcollect\u001b[39m\u001b[38;5;124m\"\u001b[39m,\n\u001b[1;32m    505\u001b[0m }\n\u001b[0;32m--> 506\u001b[0m \u001b[43m\u001b[49m\u001b[38;5;28;43;01mfor\u001b[39;49;00m\u001b[43m \u001b[49m\u001b[43mevent\u001b[49m\u001b[43m \u001b[49m\u001b[38;5;129;43;01min\u001b[39;49;00m\u001b[43m \u001b[49m\u001b[43mgraph\u001b[49m\u001b[38;5;241;43m.\u001b[39;49m\u001b[43mstream\u001b[49m\u001b[43m(\u001b[49m\n\u001b[1;32m    507\u001b[0m \u001b[43m    \u001b[49m\u001b[43minitial_state\u001b[49m\u001b[43m,\u001b[49m\u001b[43m \u001b[49m\u001b[43mconfig\u001b[49m\u001b[38;5;241;43m=\u001b[39;49m\u001b[43m{\u001b[49m\u001b[38;5;124;43m\"\u001b[39;49m\u001b[38;5;124;43mrecursion_limit\u001b[39;49m\u001b[38;5;124;43m\"\u001b[39;49m\u001b[43m:\u001b[49m\u001b[43m \u001b[49m\u001b[38;5;241;43m25\u001b[39;49m\u001b[43m,\u001b[49m\u001b[43m \u001b[49m\u001b[38;5;124;43m\"\u001b[39;49m\u001b[38;5;124;43mrun_id\u001b[39;49m\u001b[38;5;124;43m\"\u001b[39;49m\u001b[43m:\u001b[49m\u001b[43m \u001b[49m\u001b[43mrun_id\u001b[49m\u001b[43m}\u001b[49m\n\u001b[1;32m    508\u001b[0m \u001b[43m\u001b[49m\u001b[43m)\u001b[49m\u001b[43m:\u001b[49m\n\u001b[1;32m    509\u001b[0m \u001b[43m    \u001b[49m\u001b[43mlogger\u001b[49m\u001b[38;5;241;43m.\u001b[39;49m\u001b[43minfo\u001b[49m\u001b[43m(\u001b[49m\u001b[38;5;124;43mf\u001b[39;49m\u001b[38;5;124;43m\"\u001b[39;49m\u001b[38;5;124;43mRaw event: \u001b[39;49m\u001b[38;5;132;43;01m{\u001b[39;49;00m\u001b[43mevent\u001b[49m\u001b[38;5;132;43;01m}\u001b[39;49;00m\u001b[38;5;124;43m\"\u001b[39;49m\u001b[43m)\u001b[49m\u001b[43m  \u001b[49m\u001b[38;5;66;43;03m# Debug print\u001b[39;49;00m\n\u001b[1;32m    511\u001b[0m \u001b[43m    \u001b[49m\u001b[38;5;66;43;03m# Extract phase from the correct location in event\u001b[39;49;00m\n",
      "File \u001b[0;32m~/Library/Caches/pypoetry/virtualenvs/deepfunding-agent-bjmBbq7J-py3.11/lib/python3.11/site-packages/langgraph/pregel/__init__.py:1680\u001b[0m, in \u001b[0;36mPregel.stream\u001b[0;34m(self, input, config, stream_mode, output_keys, interrupt_before, interrupt_after, debug, subgraphs)\u001b[0m\n\u001b[1;32m   1671\u001b[0m \u001b[38;5;28;01mif\u001b[39;00m loop\u001b[38;5;241m.\u001b[39mstatus \u001b[38;5;241m==\u001b[39m \u001b[38;5;124m\"\u001b[39m\u001b[38;5;124mout_of_steps\u001b[39m\u001b[38;5;124m\"\u001b[39m:\n\u001b[1;32m   1672\u001b[0m     msg \u001b[38;5;241m=\u001b[39m create_error_message(\n\u001b[1;32m   1673\u001b[0m         message\u001b[38;5;241m=\u001b[39m(\n\u001b[1;32m   1674\u001b[0m             \u001b[38;5;124mf\u001b[39m\u001b[38;5;124m\"\u001b[39m\u001b[38;5;124mRecursion limit of \u001b[39m\u001b[38;5;132;01m{\u001b[39;00mconfig[\u001b[38;5;124m'\u001b[39m\u001b[38;5;124mrecursion_limit\u001b[39m\u001b[38;5;124m'\u001b[39m]\u001b[38;5;132;01m}\u001b[39;00m\u001b[38;5;124m reached \u001b[39m\u001b[38;5;124m\"\u001b[39m\n\u001b[0;32m   (...)\u001b[0m\n\u001b[1;32m   1678\u001b[0m         error_code\u001b[38;5;241m=\u001b[39mErrorCode\u001b[38;5;241m.\u001b[39mGRAPH_RECURSION_LIMIT,\n\u001b[1;32m   1679\u001b[0m     )\n\u001b[0;32m-> 1680\u001b[0m     \u001b[38;5;28;01mraise\u001b[39;00m GraphRecursionError(msg)\n\u001b[1;32m   1681\u001b[0m \u001b[38;5;66;03m# set final channel values as run output\u001b[39;00m\n\u001b[1;32m   1682\u001b[0m run_manager\u001b[38;5;241m.\u001b[39mon_chain_end(loop\u001b[38;5;241m.\u001b[39moutput)\n",
      "\u001b[0;31mGraphRecursionError\u001b[0m: Recursion limit of 25 reached without hitting a stop condition. You can increase the limit by setting the `recursion_limit` config key.\nFor troubleshooting, visit: https://python.langchain.com/docs/troubleshooting/errors/GRAPH_RECURSION_LIMIT"
     ]
    }
   ],
   "source": [
    "# force a fresh import of the module, otherwise you need to restart the ipython kernel whenever you make changes to the deepfunding.py file\n",
    "import importlib\n",
    "import deepfunding\n",
    "importlib.reload(deepfunding)\n",
    "\n",
    "from deepfunding import run_comparison\n",
    "from tools.data_collection import fetch_repo_metrics\n",
    "\n",
    "# Initialize agent weight columns if they don't exist\n",
    "if 'agent_weight_a' not in df.columns:\n",
    "    df['agent_weight_a'] = None\n",
    "if 'agent_weight_b' not in df.columns:\n",
    "    df['agent_weight_b'] = None\n",
    "if 'agent_trace_url' not in df.columns:\n",
    "    df['agent_trace_url'] = None\n",
    "\n",
    "for i in range(len(df)):\n",
    "    if pd.notnull(df.at[i, 'agent_weight_a']) and pd.notnull(df.at[i, 'agent_weight_b']):\n",
    "        continue\n",
    "\n",
    "    repo_a_url = df.iloc[i][\"project_a\"]\n",
    "    repo_b_url = df.iloc[i][\"project_b\"]\n",
    "    print(f\"{repo_a_url} VS {repo_b_url}\")\n",
    "    repo_a = { \"url\": repo_a_url, **fetch_repo_metrics(repo_a_url) }\n",
    "    repo_b = { \"url\": repo_b_url, **fetch_repo_metrics(repo_b_url) }\n",
    "\n",
    "    agent_result = run_comparison(repo_a, repo_b)\n",
    "\n",
    "    df.at[i, 'agent_weight_a'] = agent_result['weights'][repo_a_url]\n",
    "    df.at[i, 'agent_weight_b'] = agent_result['weights'][repo_b_url]\n",
    "    df.at[i, 'agent_trace_url'] = agent_result['trace_url']\n",
    "\n",
    "    print(f\"Agent: {df.iloc[i]['agent_weight_a']} {df.iloc[i]['agent_weight_b']}\")\n",
    "    print(f\"Human: {df.iloc[i]['weight_a']} {df.iloc[i]['weight_b']}\")\n",
    "    print(f\"Check details here: {df.iloc[i]['agent_trace_url']}\")\n",
    "    df.to_csv(\"mini-contest/dataset-agent.csv\", index=False)"
   ]
  }
 ],
 "metadata": {
  "kernelspec": {
   "display_name": "deepfunding-agent-bjmBbq7J-py3.11",
   "language": "python",
   "name": "python3"
  },
  "language_info": {
   "codemirror_mode": {
    "name": "ipython",
    "version": 3
   },
   "file_extension": ".py",
   "mimetype": "text/x-python",
   "name": "python",
   "nbconvert_exporter": "python",
   "pygments_lexer": "ipython3",
   "version": "3.11.5"
  }
 },
 "nbformat": 4,
 "nbformat_minor": 2
}
